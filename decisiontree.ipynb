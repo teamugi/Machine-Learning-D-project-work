{
 "cells": [
  {
   "cell_type": "code",
   "execution_count": 1,
   "id": "closed-investor",
   "metadata": {},
   "outputs": [],
   "source": [
    "import numpy as np\n",
    "import pandas as pd\n",
    "import sklearn"
   ]
  },
  {
   "cell_type": "code",
   "execution_count": 39,
   "id": "boring-kazakhstan",
   "metadata": {},
   "outputs": [
    {
     "data": {
      "text/html": [
       "<div>\n",
       "<style scoped>\n",
       "    .dataframe tbody tr th:only-of-type {\n",
       "        vertical-align: middle;\n",
       "    }\n",
       "\n",
       "    .dataframe tbody tr th {\n",
       "        vertical-align: top;\n",
       "    }\n",
       "\n",
       "    .dataframe thead th {\n",
       "        text-align: right;\n",
       "    }\n",
       "</style>\n",
       "<table border=\"1\" class=\"dataframe\">\n",
       "  <thead>\n",
       "    <tr style=\"text-align: right;\">\n",
       "      <th></th>\n",
       "      <th>Date</th>\n",
       "      <th>Open</th>\n",
       "      <th>High</th>\n",
       "      <th>Low</th>\n",
       "      <th>Close</th>\n",
       "      <th>Adj Close</th>\n",
       "      <th>Volume</th>\n",
       "    </tr>\n",
       "  </thead>\n",
       "  <tbody>\n",
       "    <tr>\n",
       "      <th>0</th>\n",
       "      <td>2020-01-01</td>\n",
       "      <td>7194.892090</td>\n",
       "      <td>7254.330566</td>\n",
       "      <td>7174.944336</td>\n",
       "      <td>7200.174316</td>\n",
       "      <td>7200.174316</td>\n",
       "      <td>18565664997</td>\n",
       "    </tr>\n",
       "    <tr>\n",
       "      <th>1</th>\n",
       "      <td>2020-01-02</td>\n",
       "      <td>7202.551270</td>\n",
       "      <td>7212.155273</td>\n",
       "      <td>6935.270020</td>\n",
       "      <td>6985.470215</td>\n",
       "      <td>6985.470215</td>\n",
       "      <td>20802083465</td>\n",
       "    </tr>\n",
       "    <tr>\n",
       "      <th>2</th>\n",
       "      <td>2020-01-03</td>\n",
       "      <td>6984.428711</td>\n",
       "      <td>7413.715332</td>\n",
       "      <td>6914.996094</td>\n",
       "      <td>7344.884277</td>\n",
       "      <td>7344.884277</td>\n",
       "      <td>28111481032</td>\n",
       "    </tr>\n",
       "    <tr>\n",
       "      <th>3</th>\n",
       "      <td>2020-01-04</td>\n",
       "      <td>7345.375488</td>\n",
       "      <td>7427.385742</td>\n",
       "      <td>7309.514160</td>\n",
       "      <td>7410.656738</td>\n",
       "      <td>7410.656738</td>\n",
       "      <td>18444271275</td>\n",
       "    </tr>\n",
       "    <tr>\n",
       "      <th>4</th>\n",
       "      <td>2020-01-05</td>\n",
       "      <td>7410.451660</td>\n",
       "      <td>7544.497070</td>\n",
       "      <td>7400.535645</td>\n",
       "      <td>7411.317383</td>\n",
       "      <td>7411.317383</td>\n",
       "      <td>19725074095</td>\n",
       "    </tr>\n",
       "  </tbody>\n",
       "</table>\n",
       "</div>"
      ],
      "text/plain": [
       "         Date         Open         High          Low        Close  \\\n",
       "0  2020-01-01  7194.892090  7254.330566  7174.944336  7200.174316   \n",
       "1  2020-01-02  7202.551270  7212.155273  6935.270020  6985.470215   \n",
       "2  2020-01-03  6984.428711  7413.715332  6914.996094  7344.884277   \n",
       "3  2020-01-04  7345.375488  7427.385742  7309.514160  7410.656738   \n",
       "4  2020-01-05  7410.451660  7544.497070  7400.535645  7411.317383   \n",
       "\n",
       "     Adj Close       Volume  \n",
       "0  7200.174316  18565664997  \n",
       "1  6985.470215  20802083465  \n",
       "2  7344.884277  28111481032  \n",
       "3  7410.656738  18444271275  \n",
       "4  7411.317383  19725074095  "
      ]
     },
     "execution_count": 39,
     "metadata": {},
     "output_type": "execute_result"
    }
   ],
   "source": [
    "# load datasets\n",
    "btc_data = pd.read_csv('BTC-USD.csv')\n",
    "ndx_data = pd.read_csv('^NDX.csv')\n",
    "btc_data.head()"
   ]
  },
  {
   "cell_type": "code",
   "execution_count": 42,
   "id": "chicken-network",
   "metadata": {},
   "outputs": [],
   "source": [
    "btc_change = (btc_data['Close'] - btc_data['Open']) / btc_data['Close'] * 100\n",
    "btc_data['btc_pct_change'] = btc_change\n",
    "\n",
    "ndx_change = (ndx_data['Close'] - ndx_data['Open']) / ndx_data['Close'] * 100\n",
    "ndx_data['ndx_pct_change'] = ndx_change\n",
    "\n",
    "# shift 'Close' up by 1 to construct labels:\n",
    "btc_data['shifted_close'] = btc_data['Close'].shift(-1)\n",
    "btc_data['label'] = np.where(btc_data['shifted_close'] - btc_data['Close'] > 0, 1, 0)"
   ]
  },
  {
   "cell_type": "code",
   "execution_count": 44,
   "id": "strong-steering",
   "metadata": {},
   "outputs": [],
   "source": [
    "btc_data = btc_data.join(ndx_data.set_index('Date'), on='Date', rsuffix='_ndx')\n",
    "btc_data = btc_data.dropna(axis=0)"
   ]
  },
  {
   "cell_type": "code",
   "execution_count": 48,
   "id": "abstract-evanescence",
   "metadata": {},
   "outputs": [],
   "source": [
    "pruned = btc_data.loc[:, ['btc_pct_change', 'ndx_pct_change', 'Volume']]\n",
    "labels = btc_data.loc[:, 'label']"
   ]
  },
  {
   "cell_type": "code",
   "execution_count": 52,
   "id": "strange-keyboard",
   "metadata": {},
   "outputs": [],
   "source": [
    "# split into train and validation\n",
    "X = pruned.to_numpy()\n",
    "y = labels.to_numpy()\n",
    "\n",
    "X_train = X[:450]\n",
    "X_val = X[451:]\n",
    "\n",
    "y_train = y[:450]\n",
    "y_val = y[451:]"
   ]
  },
  {
   "cell_type": "code",
   "execution_count": 54,
   "id": "local-advancement",
   "metadata": {},
   "outputs": [
    {
     "data": {
      "text/plain": [
       "DecisionTreeClassifier(ccp_alpha=0.0, class_weight=None, criterion='gini',\n",
       "                       max_depth=None, max_features=None, max_leaf_nodes=None,\n",
       "                       min_impurity_decrease=0.0, min_impurity_split=None,\n",
       "                       min_samples_leaf=1, min_samples_split=2,\n",
       "                       min_weight_fraction_leaf=0.0, presort='deprecated',\n",
       "                       random_state=None, splitter='best')"
      ]
     },
     "execution_count": 54,
     "metadata": {},
     "output_type": "execute_result"
    }
   ],
   "source": [
    "from sklearn import tree\n",
    "dec_tree = tree.DecisionTreeClassifier()\n",
    "dec_tree.fit(X_train, y_train)"
   ]
  },
  {
   "cell_type": "code",
   "execution_count": 55,
   "id": "entitled-exhibition",
   "metadata": {},
   "outputs": [
    {
     "data": {
      "text/plain": [
       "0.5404255319148936"
      ]
     },
     "execution_count": 55,
     "metadata": {},
     "output_type": "execute_result"
    }
   ],
   "source": [
    "from sklearn.metrics import accuracy_score\n",
    "y_preds = dec_tree.predict(X_val)\n",
    "score = accuracy_score(y_val, y_preds)\n",
    "score"
   ]
  }
 ],
 "metadata": {
  "kernelspec": {
   "display_name": "ai3_dev",
   "language": "python",
   "name": "ai3_dev"
  },
  "language_info": {
   "codemirror_mode": {
    "name": "ipython",
    "version": 3
   },
   "file_extension": ".py",
   "mimetype": "text/x-python",
   "name": "python",
   "nbconvert_exporter": "python",
   "pygments_lexer": "ipython3",
   "version": "3.7.6"
  }
 },
 "nbformat": 4,
 "nbformat_minor": 5
}
