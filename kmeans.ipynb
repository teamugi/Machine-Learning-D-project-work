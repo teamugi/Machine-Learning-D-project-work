{
 "cells": [
  {
   "cell_type": "code",
   "execution_count": 166,
   "id": "naked-mobility",
   "metadata": {},
   "outputs": [],
   "source": [
    "import numpy as np\n",
    "import pandas as pd\n",
    "import sklearn\n",
    "import matplotlib.pyplot as plt\n",
    "from scipy import stats"
   ]
  },
  {
   "cell_type": "code",
   "execution_count": 176,
   "id": "bottom-server",
   "metadata": {},
   "outputs": [
    {
     "data": {
      "text/html": [
       "<div>\n",
       "<style scoped>\n",
       "    .dataframe tbody tr th:only-of-type {\n",
       "        vertical-align: middle;\n",
       "    }\n",
       "\n",
       "    .dataframe tbody tr th {\n",
       "        vertical-align: top;\n",
       "    }\n",
       "\n",
       "    .dataframe thead th {\n",
       "        text-align: right;\n",
       "    }\n",
       "</style>\n",
       "<table border=\"1\" class=\"dataframe\">\n",
       "  <thead>\n",
       "    <tr style=\"text-align: right;\">\n",
       "      <th></th>\n",
       "      <th>Date</th>\n",
       "      <th>Open</th>\n",
       "      <th>High</th>\n",
       "      <th>Low</th>\n",
       "      <th>Close</th>\n",
       "      <th>Adj Close</th>\n",
       "      <th>Volume</th>\n",
       "    </tr>\n",
       "  </thead>\n",
       "  <tbody>\n",
       "    <tr>\n",
       "      <th>0</th>\n",
       "      <td>2020-01-01</td>\n",
       "      <td>7194.892090</td>\n",
       "      <td>7254.330566</td>\n",
       "      <td>7174.944336</td>\n",
       "      <td>7200.174316</td>\n",
       "      <td>7200.174316</td>\n",
       "      <td>18565664997</td>\n",
       "    </tr>\n",
       "    <tr>\n",
       "      <th>1</th>\n",
       "      <td>2020-01-02</td>\n",
       "      <td>7202.551270</td>\n",
       "      <td>7212.155273</td>\n",
       "      <td>6935.270020</td>\n",
       "      <td>6985.470215</td>\n",
       "      <td>6985.470215</td>\n",
       "      <td>20802083465</td>\n",
       "    </tr>\n",
       "    <tr>\n",
       "      <th>2</th>\n",
       "      <td>2020-01-03</td>\n",
       "      <td>6984.428711</td>\n",
       "      <td>7413.715332</td>\n",
       "      <td>6914.996094</td>\n",
       "      <td>7344.884277</td>\n",
       "      <td>7344.884277</td>\n",
       "      <td>28111481032</td>\n",
       "    </tr>\n",
       "    <tr>\n",
       "      <th>3</th>\n",
       "      <td>2020-01-04</td>\n",
       "      <td>7345.375488</td>\n",
       "      <td>7427.385742</td>\n",
       "      <td>7309.514160</td>\n",
       "      <td>7410.656738</td>\n",
       "      <td>7410.656738</td>\n",
       "      <td>18444271275</td>\n",
       "    </tr>\n",
       "    <tr>\n",
       "      <th>4</th>\n",
       "      <td>2020-01-05</td>\n",
       "      <td>7410.451660</td>\n",
       "      <td>7544.497070</td>\n",
       "      <td>7400.535645</td>\n",
       "      <td>7411.317383</td>\n",
       "      <td>7411.317383</td>\n",
       "      <td>19725074095</td>\n",
       "    </tr>\n",
       "  </tbody>\n",
       "</table>\n",
       "</div>"
      ],
      "text/plain": [
       "         Date         Open         High          Low        Close  \\\n",
       "0  2020-01-01  7194.892090  7254.330566  7174.944336  7200.174316   \n",
       "1  2020-01-02  7202.551270  7212.155273  6935.270020  6985.470215   \n",
       "2  2020-01-03  6984.428711  7413.715332  6914.996094  7344.884277   \n",
       "3  2020-01-04  7345.375488  7427.385742  7309.514160  7410.656738   \n",
       "4  2020-01-05  7410.451660  7544.497070  7400.535645  7411.317383   \n",
       "\n",
       "     Adj Close       Volume  \n",
       "0  7200.174316  18565664997  \n",
       "1  6985.470215  20802083465  \n",
       "2  7344.884277  28111481032  \n",
       "3  7410.656738  18444271275  \n",
       "4  7411.317383  19725074095  "
      ]
     },
     "execution_count": 176,
     "metadata": {},
     "output_type": "execute_result"
    }
   ],
   "source": [
    "# load datasets\n",
    "btc_data = pd.read_csv('BTC-USD.csv')\n",
    "ndx_data = pd.read_csv('^NDX.csv')\n",
    "btc_data.head()"
   ]
  },
  {
   "cell_type": "code",
   "execution_count": 177,
   "id": "conservative-shareware",
   "metadata": {},
   "outputs": [
    {
     "data": {
      "text/html": [
       "<div>\n",
       "<style scoped>\n",
       "    .dataframe tbody tr th:only-of-type {\n",
       "        vertical-align: middle;\n",
       "    }\n",
       "\n",
       "    .dataframe tbody tr th {\n",
       "        vertical-align: top;\n",
       "    }\n",
       "\n",
       "    .dataframe thead th {\n",
       "        text-align: right;\n",
       "    }\n",
       "</style>\n",
       "<table border=\"1\" class=\"dataframe\">\n",
       "  <thead>\n",
       "    <tr style=\"text-align: right;\">\n",
       "      <th></th>\n",
       "      <th>Date</th>\n",
       "      <th>Open</th>\n",
       "      <th>High</th>\n",
       "      <th>Low</th>\n",
       "      <th>Close</th>\n",
       "      <th>Adj Close</th>\n",
       "      <th>Volume</th>\n",
       "      <th>btc_pct_change</th>\n",
       "      <th>shifted_close</th>\n",
       "      <th>label</th>\n",
       "    </tr>\n",
       "  </thead>\n",
       "  <tbody>\n",
       "    <tr>\n",
       "      <th>0</th>\n",
       "      <td>2020-01-01</td>\n",
       "      <td>7194.892090</td>\n",
       "      <td>7254.330566</td>\n",
       "      <td>7174.944336</td>\n",
       "      <td>7200.174316</td>\n",
       "      <td>7200.174316</td>\n",
       "      <td>18565664997</td>\n",
       "      <td>0.073362</td>\n",
       "      <td>6985.470215</td>\n",
       "      <td>0</td>\n",
       "    </tr>\n",
       "    <tr>\n",
       "      <th>1</th>\n",
       "      <td>2020-01-02</td>\n",
       "      <td>7202.551270</td>\n",
       "      <td>7212.155273</td>\n",
       "      <td>6935.270020</td>\n",
       "      <td>6985.470215</td>\n",
       "      <td>6985.470215</td>\n",
       "      <td>20802083465</td>\n",
       "      <td>-3.107608</td>\n",
       "      <td>7344.884277</td>\n",
       "      <td>1</td>\n",
       "    </tr>\n",
       "    <tr>\n",
       "      <th>2</th>\n",
       "      <td>2020-01-03</td>\n",
       "      <td>6984.428711</td>\n",
       "      <td>7413.715332</td>\n",
       "      <td>6914.996094</td>\n",
       "      <td>7344.884277</td>\n",
       "      <td>7344.884277</td>\n",
       "      <td>28111481032</td>\n",
       "      <td>4.907573</td>\n",
       "      <td>7410.656738</td>\n",
       "      <td>1</td>\n",
       "    </tr>\n",
       "    <tr>\n",
       "      <th>3</th>\n",
       "      <td>2020-01-04</td>\n",
       "      <td>7345.375488</td>\n",
       "      <td>7427.385742</td>\n",
       "      <td>7309.514160</td>\n",
       "      <td>7410.656738</td>\n",
       "      <td>7410.656738</td>\n",
       "      <td>18444271275</td>\n",
       "      <td>0.880910</td>\n",
       "      <td>7411.317383</td>\n",
       "      <td>1</td>\n",
       "    </tr>\n",
       "    <tr>\n",
       "      <th>4</th>\n",
       "      <td>2020-01-05</td>\n",
       "      <td>7410.451660</td>\n",
       "      <td>7544.497070</td>\n",
       "      <td>7400.535645</td>\n",
       "      <td>7411.317383</td>\n",
       "      <td>7411.317383</td>\n",
       "      <td>19725074095</td>\n",
       "      <td>0.011681</td>\n",
       "      <td>7769.219238</td>\n",
       "      <td>1</td>\n",
       "    </tr>\n",
       "  </tbody>\n",
       "</table>\n",
       "</div>"
      ],
      "text/plain": [
       "         Date         Open         High          Low        Close  \\\n",
       "0  2020-01-01  7194.892090  7254.330566  7174.944336  7200.174316   \n",
       "1  2020-01-02  7202.551270  7212.155273  6935.270020  6985.470215   \n",
       "2  2020-01-03  6984.428711  7413.715332  6914.996094  7344.884277   \n",
       "3  2020-01-04  7345.375488  7427.385742  7309.514160  7410.656738   \n",
       "4  2020-01-05  7410.451660  7544.497070  7400.535645  7411.317383   \n",
       "\n",
       "     Adj Close       Volume  btc_pct_change  shifted_close  label  \n",
       "0  7200.174316  18565664997        0.073362    6985.470215      0  \n",
       "1  6985.470215  20802083465       -3.107608    7344.884277      1  \n",
       "2  7344.884277  28111481032        4.907573    7410.656738      1  \n",
       "3  7410.656738  18444271275        0.880910    7411.317383      1  \n",
       "4  7411.317383  19725074095        0.011681    7769.219238      1  "
      ]
     },
     "execution_count": 177,
     "metadata": {},
     "output_type": "execute_result"
    }
   ],
   "source": [
    "btc_change = (btc_data['Close'] - btc_data['Open']) / btc_data['Close'] * 100\n",
    "btc_data['btc_pct_change'] = btc_change\n",
    "\n",
    "ndx_change = (ndx_data['Close'] - ndx_data['Open']) / ndx_data['Close'] * 100\n",
    "ndx_data['ndx_pct_change'] = ndx_change\n",
    "\n",
    "# shift 'Close' up by 1 to construct labels:\n",
    "btc_data['shifted_close'] = btc_data['Close'].shift(-1)\n",
    "btc_data['label'] = np.where(btc_data['shifted_close'] - btc_data['Close'] > 0, 1, 0)\n",
    "btc_data = btc_data[(np.abs(stats.zscore(btc_data['btc_pct_change'])) < 3)]\n",
    "btc_data.head()"
   ]
  },
  {
   "cell_type": "code",
   "execution_count": 178,
   "id": "breeding-piece",
   "metadata": {},
   "outputs": [],
   "source": [
    "btc_data = btc_data.join(ndx_data.set_index('Date'), on='Date', rsuffix='_ndx')\n",
    "btc_data = btc_data.dropna(axis=0)\n",
    "\n",
    "pruned = btc_data.loc[:, ['btc_pct_change', 'ndx_pct_change']]\n",
    "labels = btc_data.loc[:, 'label']"
   ]
  },
  {
   "cell_type": "code",
   "execution_count": 184,
   "id": "experienced-source",
   "metadata": {},
   "outputs": [],
   "source": [
    "# split into train and validation\n",
    "X = pruned.to_numpy()\n",
    "y = labels.to_numpy()\n",
    "\n",
    "X_train = X[:500]\n",
    "X_val = X[500:]\n",
    "\n",
    "y_train = y[:500]\n",
    "y_val = y[500:]"
   ]
  },
  {
   "cell_type": "code",
   "execution_count": 185,
   "id": "useful-middle",
   "metadata": {},
   "outputs": [],
   "source": [
    "from sklearn.cluster import KMeans\n",
    "km = KMeans(n_clusters=2, max_iter=10000).fit(X_train)\n",
    "train_labels = km.labels_"
   ]
  },
  {
   "cell_type": "code",
   "execution_count": 186,
   "id": "stylish-antigua",
   "metadata": {},
   "outputs": [
    {
     "data": {
      "text/plain": [
       "<matplotlib.collections.PathCollection at 0x2595a67ad08>"
      ]
     },
     "execution_count": 186,
     "metadata": {},
     "output_type": "execute_result"
    },
    {
     "data": {
      "image/png": "[encoded data removed]",
      "text/plain": [
       "<Figure size 432x288 with 1 Axes>"
      ]
     },
     "metadata": {
      "needs_background": "light"
     },
     "output_type": "display_data"
    }
   ],
   "source": [
    "plt.scatter(\n",
    "    X_train[y_train == 1, 0], X_train[y_train == 1, 1],\n",
    "    s=50, c='lightgreen',\n",
    "    marker='s', edgecolor='black',\n",
    "    label='cluster 1',\n",
    "    alpha=0.25\n",
    ")\n",
    "\n",
    "plt.scatter(\n",
    "    X_train[y_train == 0, 0], X_train[y_train == 0, 1],\n",
    "    s=50, c='orange',\n",
    "    marker='o', edgecolor='black',\n",
    "    label='cluster 2',\n",
    "    alpha=0.25\n",
    ")"
   ]
  },
  {
   "cell_type": "code",
   "execution_count": 187,
   "id": "capital-marker",
   "metadata": {},
   "outputs": [
    {
     "data": {
      "text/plain": [
       "<matplotlib.collections.PathCollection at 0x2595a89eb48>"
      ]
     },
     "execution_count": 187,
     "metadata": {},
     "output_type": "execute_result"
    },
    {
     "data": {
      "image/png": "[encoded data removed]",
      "text/plain": [
       "<Figure size 432x288 with 1 Axes>"
      ]
     },
     "metadata": {
      "needs_background": "light"
     },
     "output_type": "display_data"
    }
   ],
   "source": [
    "preds_ = km.predict(X_val)\n",
    "\n",
    "plt.scatter(\n",
    "    X_val[preds_ == 0, 0], X_val[preds_ == 0, 1],\n",
    "    s=50, c='lightgreen',\n",
    "    marker='s', edgecolor='black',\n",
    "    label='cluster 1',\n",
    "    alpha=0.25\n",
    ")\n",
    "\n",
    "plt.scatter(\n",
    "    X_val[preds_ == 1, 0], X_val[preds_ == 1, 1],\n",
    "    s=50, c='orange',\n",
    "    marker='o', edgecolor='black',\n",
    "    label='cluster 2',\n",
    "    alpha=0.25\n",
    ")"
   ]
  },
  {
   "cell_type": "code",
   "execution_count": 189,
   "id": "rental-concentrate",
   "metadata": {},
   "outputs": [
    {
     "data": {
      "text/plain": [
       "0.5340909090909091"
      ]
     },
     "execution_count": 189,
     "metadata": {},
     "output_type": "execute_result"
    }
   ],
   "source": [
    "correct = 0\n",
    "i = 0\n",
    "for each in preds_:\n",
    "    if each == y_val[i]:\n",
    "        correct += 1\n",
    "    i += 1\n",
    "    \n",
    "score = correct / len(y_val)\n",
    "score"
   ]
  },
  {
   "cell_type": "code",
   "execution_count": 190,
   "id": "turned-botswana",
   "metadata": {},
   "outputs": [
    {
     "data": {
      "text/plain": [
       "0.3522727272727273"
      ]
     },
     "execution_count": 190,
     "metadata": {},
     "output_type": "execute_result"
    }
   ],
   "source": [
    "np.sum(preds_) / len(preds_)"
   ]
  }
 ],
 "metadata": {
  "kernelspec": {
   "display_name": "Python 3",
   "language": "python",
   "name": "python3"
  },
  "language_info": {
   "codemirror_mode": {
    "name": "ipython",
    "version": 3
   },
   "file_extension": ".py",
   "mimetype": "text/x-python",
   "name": "python",
   "nbconvert_exporter": "python",
   "pygments_lexer": "ipython3",
   "version": "3.7.6"
  }
 },
 "nbformat": 4,
 "nbformat_minor": 5
}
